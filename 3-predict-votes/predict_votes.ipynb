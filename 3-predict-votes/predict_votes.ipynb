{
 "cells": [
  {
   "cell_type": "markdown",
   "metadata": {},
   "source": [
    "# Predição de votação do Poder Legislativo\n",
    "\n",
    "O objetivo deste lab é obter um modelo que preveja a votação de Deputados Federais, baseado em votações anteriores (2006 e 2010). Os modelos são postos à prova com dados da votação de 2014. Parte do processo é baseada no notebook [Regularized Linear Models](https://www.kaggle.com/apapiu/regularized-linear-models), de Alexandru Papiu.\n",
    "\n",
    "### Análise descritiva dos dados\n",
    "\n",
    "Para que se entenda a organização e distribuição dos dados, além de um primeiro tratamento de inconsistências, faz-se aqui uma análise descritiva simples, utilizando as bibliotecas `numpy` e `pandas`."
   ]
  },
  {
   "cell_type": "code",
   "execution_count": 292,
   "metadata": {},
   "outputs": [],
   "source": [
    "import pandas as pd\n",
    "import numpy as np\n",
    "\n",
    "\n",
    "# carregar datasets\n",
    "data06 = pd.read_csv(\"eleicoes_2006.csv\")\n",
    "data10 = pd.read_csv(\"eleicoes_2010.csv\")\n",
    "data14 = pd.read_csv(\"eleicoes_2014.csv\")\n",
    "\n",
    "# juntar os dados de treino (06 + 10)\n",
    "data = pd.concat((data06, data10, data14), sort=False)"
   ]
  },
  {
   "cell_type": "markdown",
   "metadata": {},
   "source": [
    "Descrevendo o conjunto de dados: primeiro, colunas numéricas:"
   ]
  },
  {
   "cell_type": "code",
   "execution_count": 293,
   "metadata": {},
   "outputs": [
    {
     "data": {
      "text/html": [
       "<div>\n",
       "<style scoped>\n",
       "    .dataframe tbody tr th:only-of-type {\n",
       "        vertical-align: middle;\n",
       "    }\n",
       "\n",
       "    .dataframe tbody tr th {\n",
       "        vertical-align: top;\n",
       "    }\n",
       "\n",
       "    .dataframe thead th {\n",
       "        text-align: right;\n",
       "    }\n",
       "</style>\n",
       "<table border=\"1\" class=\"dataframe\">\n",
       "  <thead>\n",
       "    <tr style=\"text-align: right;\">\n",
       "      <th></th>\n",
       "      <th>ano</th>\n",
       "      <th>sequencial_candidato</th>\n",
       "      <th>quantidade_doacoes</th>\n",
       "      <th>quantidade_doadores</th>\n",
       "      <th>total_receita</th>\n",
       "      <th>media_receita</th>\n",
       "      <th>recursos_de_outros_candidatos/comites</th>\n",
       "      <th>recursos_de_pessoas_fisicas</th>\n",
       "      <th>recursos_de_pessoas_juridicas</th>\n",
       "      <th>recursos_proprios</th>\n",
       "      <th>quantidade_despesas</th>\n",
       "      <th>quantidade_fornecedores</th>\n",
       "      <th>total_despesa</th>\n",
       "      <th>media_despesa</th>\n",
       "      <th>votos</th>\n",
       "    </tr>\n",
       "  </thead>\n",
       "  <tbody>\n",
       "    <tr>\n",
       "      <th>count</th>\n",
       "      <td>12266.00000</td>\n",
       "      <td>1.226600e+04</td>\n",
       "      <td>12266.000000</td>\n",
       "      <td>12266.000000</td>\n",
       "      <td>1.210500e+04</td>\n",
       "      <td>12105.000000</td>\n",
       "      <td>8.131000e+03</td>\n",
       "      <td>8.374000e+03</td>\n",
       "      <td>5.068000e+03</td>\n",
       "      <td>7.802000e+03</td>\n",
       "      <td>12266.000000</td>\n",
       "      <td>12266.000000</td>\n",
       "      <td>1.226600e+04</td>\n",
       "      <td>12266.000000</td>\n",
       "      <td>1.226600e+04</td>\n",
       "    </tr>\n",
       "    <tr>\n",
       "      <th>mean</th>\n",
       "      <td>2010.50481</td>\n",
       "      <td>1.215327e+11</td>\n",
       "      <td>26.901516</td>\n",
       "      <td>23.966004</td>\n",
       "      <td>1.732731e+05</td>\n",
       "      <td>5750.422579</td>\n",
       "      <td>3.138623e+04</td>\n",
       "      <td>3.888337e+04</td>\n",
       "      <td>1.854461e+05</td>\n",
       "      <td>4.076254e+04</td>\n",
       "      <td>139.323251</td>\n",
       "      <td>112.960134</td>\n",
       "      <td>1.774981e+05</td>\n",
       "      <td>1437.786337</td>\n",
       "      <td>2.079497e+04</td>\n",
       "    </tr>\n",
       "    <tr>\n",
       "      <th>std</th>\n",
       "      <td>3.25638</td>\n",
       "      <td>9.618308e+10</td>\n",
       "      <td>97.062103</td>\n",
       "      <td>84.253638</td>\n",
       "      <td>4.578935e+05</td>\n",
       "      <td>14174.233933</td>\n",
       "      <td>1.227336e+05</td>\n",
       "      <td>9.484481e+04</td>\n",
       "      <td>3.785514e+05</td>\n",
       "      <td>1.810289e+05</td>\n",
       "      <td>426.833979</td>\n",
       "      <td>342.131860</td>\n",
       "      <td>4.660459e+05</td>\n",
       "      <td>5062.045356</td>\n",
       "      <td>4.749302e+04</td>\n",
       "    </tr>\n",
       "    <tr>\n",
       "      <th>min</th>\n",
       "      <td>2006.00000</td>\n",
       "      <td>1.000100e+04</td>\n",
       "      <td>1.000000</td>\n",
       "      <td>1.000000</td>\n",
       "      <td>0.000000e+00</td>\n",
       "      <td>0.000000</td>\n",
       "      <td>1.500000e-01</td>\n",
       "      <td>1.000000e-02</td>\n",
       "      <td>0.000000e+00</td>\n",
       "      <td>0.000000e+00</td>\n",
       "      <td>1.000000</td>\n",
       "      <td>1.000000</td>\n",
       "      <td>0.000000e+00</td>\n",
       "      <td>0.000000</td>\n",
       "      <td>0.000000e+00</td>\n",
       "    </tr>\n",
       "    <tr>\n",
       "      <th>25%</th>\n",
       "      <td>2006.00000</td>\n",
       "      <td>1.194075e+04</td>\n",
       "      <td>4.000000</td>\n",
       "      <td>4.000000</td>\n",
       "      <td>2.838930e+03</td>\n",
       "      <td>614.428571</td>\n",
       "      <td>1.130000e+03</td>\n",
       "      <td>1.500000e+03</td>\n",
       "      <td>3.188675e+03</td>\n",
       "      <td>1.193635e+03</td>\n",
       "      <td>6.000000</td>\n",
       "      <td>5.000000</td>\n",
       "      <td>2.873425e+03</td>\n",
       "      <td>426.370839</td>\n",
       "      <td>6.850000e+02</td>\n",
       "    </tr>\n",
       "    <tr>\n",
       "      <th>50%</th>\n",
       "      <td>2010.00000</td>\n",
       "      <td>1.300000e+11</td>\n",
       "      <td>9.000000</td>\n",
       "      <td>8.000000</td>\n",
       "      <td>1.180013e+04</td>\n",
       "      <td>1490.308333</td>\n",
       "      <td>3.733890e+03</td>\n",
       "      <td>6.600000e+03</td>\n",
       "      <td>2.641750e+04</td>\n",
       "      <td>5.000000e+03</td>\n",
       "      <td>19.000000</td>\n",
       "      <td>17.000000</td>\n",
       "      <td>1.224470e+04</td>\n",
       "      <td>824.156949</td>\n",
       "      <td>2.394000e+03</td>\n",
       "    </tr>\n",
       "    <tr>\n",
       "      <th>75%</th>\n",
       "      <td>2014.00000</td>\n",
       "      <td>2.100000e+11</td>\n",
       "      <td>23.000000</td>\n",
       "      <td>21.000000</td>\n",
       "      <td>8.912620e+04</td>\n",
       "      <td>4635.384615</td>\n",
       "      <td>1.500000e+04</td>\n",
       "      <td>3.380516e+04</td>\n",
       "      <td>1.850000e+05</td>\n",
       "      <td>2.093750e+04</td>\n",
       "      <td>79.000000</td>\n",
       "      <td>67.000000</td>\n",
       "      <td>9.666275e+04</td>\n",
       "      <td>1547.546412</td>\n",
       "      <td>1.572600e+04</td>\n",
       "    </tr>\n",
       "    <tr>\n",
       "      <th>max</th>\n",
       "      <td>2014.00000</td>\n",
       "      <td>2.700000e+11</td>\n",
       "      <td>6997.000000</td>\n",
       "      <td>5800.000000</td>\n",
       "      <td>5.836140e+06</td>\n",
       "      <td>500180.000000</td>\n",
       "      <td>3.664205e+06</td>\n",
       "      <td>1.826762e+06</td>\n",
       "      <td>3.828338e+06</td>\n",
       "      <td>5.525600e+06</td>\n",
       "      <td>9932.000000</td>\n",
       "      <td>8359.000000</td>\n",
       "      <td>7.420179e+06</td>\n",
       "      <td>500177.000000</td>\n",
       "      <td>1.524361e+06</td>\n",
       "    </tr>\n",
       "  </tbody>\n",
       "</table>\n",
       "</div>"
      ],
      "text/plain": [
       "               ano  sequencial_candidato  quantidade_doacoes  \\\n",
       "count  12266.00000          1.226600e+04        12266.000000   \n",
       "mean    2010.50481          1.215327e+11           26.901516   \n",
       "std        3.25638          9.618308e+10           97.062103   \n",
       "min     2006.00000          1.000100e+04            1.000000   \n",
       "25%     2006.00000          1.194075e+04            4.000000   \n",
       "50%     2010.00000          1.300000e+11            9.000000   \n",
       "75%     2014.00000          2.100000e+11           23.000000   \n",
       "max     2014.00000          2.700000e+11         6997.000000   \n",
       "\n",
       "       quantidade_doadores  total_receita  media_receita  \\\n",
       "count         12266.000000   1.210500e+04   12105.000000   \n",
       "mean             23.966004   1.732731e+05    5750.422579   \n",
       "std              84.253638   4.578935e+05   14174.233933   \n",
       "min               1.000000   0.000000e+00       0.000000   \n",
       "25%               4.000000   2.838930e+03     614.428571   \n",
       "50%               8.000000   1.180013e+04    1490.308333   \n",
       "75%              21.000000   8.912620e+04    4635.384615   \n",
       "max            5800.000000   5.836140e+06  500180.000000   \n",
       "\n",
       "       recursos_de_outros_candidatos/comites  recursos_de_pessoas_fisicas  \\\n",
       "count                           8.131000e+03                 8.374000e+03   \n",
       "mean                            3.138623e+04                 3.888337e+04   \n",
       "std                             1.227336e+05                 9.484481e+04   \n",
       "min                             1.500000e-01                 1.000000e-02   \n",
       "25%                             1.130000e+03                 1.500000e+03   \n",
       "50%                             3.733890e+03                 6.600000e+03   \n",
       "75%                             1.500000e+04                 3.380516e+04   \n",
       "max                             3.664205e+06                 1.826762e+06   \n",
       "\n",
       "       recursos_de_pessoas_juridicas  recursos_proprios  quantidade_despesas  \\\n",
       "count                   5.068000e+03       7.802000e+03         12266.000000   \n",
       "mean                    1.854461e+05       4.076254e+04           139.323251   \n",
       "std                     3.785514e+05       1.810289e+05           426.833979   \n",
       "min                     0.000000e+00       0.000000e+00             1.000000   \n",
       "25%                     3.188675e+03       1.193635e+03             6.000000   \n",
       "50%                     2.641750e+04       5.000000e+03            19.000000   \n",
       "75%                     1.850000e+05       2.093750e+04            79.000000   \n",
       "max                     3.828338e+06       5.525600e+06          9932.000000   \n",
       "\n",
       "       quantidade_fornecedores  total_despesa  media_despesa         votos  \n",
       "count             12266.000000   1.226600e+04   12266.000000  1.226600e+04  \n",
       "mean                112.960134   1.774981e+05    1437.786337  2.079497e+04  \n",
       "std                 342.131860   4.660459e+05    5062.045356  4.749302e+04  \n",
       "min                   1.000000   0.000000e+00       0.000000  0.000000e+00  \n",
       "25%                   5.000000   2.873425e+03     426.370839  6.850000e+02  \n",
       "50%                  17.000000   1.224470e+04     824.156949  2.394000e+03  \n",
       "75%                  67.000000   9.666275e+04    1547.546412  1.572600e+04  \n",
       "max                8359.000000   7.420179e+06  500177.000000  1.524361e+06  "
      ]
     },
     "execution_count": 293,
     "metadata": {},
     "output_type": "execute_result"
    }
   ],
   "source": [
    "data.describe(include='number')"
   ]
  },
  {
   "cell_type": "markdown",
   "metadata": {},
   "source": [
    "Agora, colunas categóricas:"
   ]
  },
  {
   "cell_type": "code",
   "execution_count": 294,
   "metadata": {},
   "outputs": [
    {
     "data": {
      "text/html": [
       "<div>\n",
       "<style scoped>\n",
       "    .dataframe tbody tr th:only-of-type {\n",
       "        vertical-align: middle;\n",
       "    }\n",
       "\n",
       "    .dataframe tbody tr th {\n",
       "        vertical-align: top;\n",
       "    }\n",
       "\n",
       "    .dataframe thead th {\n",
       "        text-align: right;\n",
       "    }\n",
       "</style>\n",
       "<table border=\"1\" class=\"dataframe\">\n",
       "  <thead>\n",
       "    <tr style=\"text-align: right;\">\n",
       "      <th></th>\n",
       "      <th>nome</th>\n",
       "      <th>uf</th>\n",
       "      <th>partido</th>\n",
       "      <th>cargo</th>\n",
       "      <th>sexo</th>\n",
       "      <th>grau</th>\n",
       "      <th>estado_civil</th>\n",
       "      <th>ocupacao</th>\n",
       "    </tr>\n",
       "  </thead>\n",
       "  <tbody>\n",
       "    <tr>\n",
       "      <th>count</th>\n",
       "      <td>12266</td>\n",
       "      <td>12266</td>\n",
       "      <td>12266</td>\n",
       "      <td>12266</td>\n",
       "      <td>12266</td>\n",
       "      <td>12266</td>\n",
       "      <td>12266</td>\n",
       "      <td>12266</td>\n",
       "    </tr>\n",
       "    <tr>\n",
       "      <th>unique</th>\n",
       "      <td>10923</td>\n",
       "      <td>27</td>\n",
       "      <td>36</td>\n",
       "      <td>1</td>\n",
       "      <td>2</td>\n",
       "      <td>7</td>\n",
       "      <td>5</td>\n",
       "      <td>192</td>\n",
       "    </tr>\n",
       "    <tr>\n",
       "      <th>top</th>\n",
       "      <td>FRANCISCO LOPES DA SILVA</td>\n",
       "      <td>SP</td>\n",
       "      <td>PT</td>\n",
       "      <td>DEPUTADO FEDERAL</td>\n",
       "      <td>MASCULINO</td>\n",
       "      <td>SUPERIOR COMPLETO</td>\n",
       "      <td>CASADO(A)</td>\n",
       "      <td>OUTROS</td>\n",
       "    </tr>\n",
       "    <tr>\n",
       "      <th>freq</th>\n",
       "      <td>4</td>\n",
       "      <td>2707</td>\n",
       "      <td>913</td>\n",
       "      <td>12266</td>\n",
       "      <td>9912</td>\n",
       "      <td>6962</td>\n",
       "      <td>7545</td>\n",
       "      <td>1470</td>\n",
       "    </tr>\n",
       "  </tbody>\n",
       "</table>\n",
       "</div>"
      ],
      "text/plain": [
       "                            nome     uf partido             cargo       sexo  \\\n",
       "count                      12266  12266   12266             12266      12266   \n",
       "unique                     10923     27      36                 1          2   \n",
       "top     FRANCISCO LOPES DA SILVA     SP      PT  DEPUTADO FEDERAL  MASCULINO   \n",
       "freq                           4   2707     913             12266       9912   \n",
       "\n",
       "                     grau estado_civil ocupacao  \n",
       "count               12266        12266    12266  \n",
       "unique                  7            5      192  \n",
       "top     SUPERIOR COMPLETO    CASADO(A)   OUTROS  \n",
       "freq                 6962         7545     1470  "
      ]
     },
     "execution_count": 294,
     "metadata": {},
     "output_type": "execute_result"
    }
   ],
   "source": [
    "data.describe(include='object')"
   ]
  },
  {
   "cell_type": "markdown",
   "metadata": {},
   "source": [
    "Para fins de simplicidade, vamos analisar apenas atributos relacionados ao financiamento das campanhas, que são numéricos. Excluem-se, portanto, as variáveis categóricas, como nome e cargo. A variável-alvo, ``votos``, também será excluída (mas se preserva nos dataframes separados por ano)."
   ]
  },
  {
   "cell_type": "code",
   "execution_count": 295,
   "metadata": {},
   "outputs": [],
   "source": [
    "# removendo a variável-alvo. Note-se que ela está\n",
    "# mantida nos dataframes separados por ano.\n",
    "data.drop(['votos'], axis=1, inplace=True)\n",
    "\n",
    "# removendo variáveis categóricas do modelo.\n",
    "data.drop(['nome'], axis=1, inplace=True)\n",
    "data.drop(['uf'], axis=1, inplace=True)\n",
    "data.drop(['partido'], axis=1, inplace=True)\n",
    "data.drop(['cargo'], axis=1, inplace=True)\n",
    "data.drop(['grau'], axis=1, inplace=True)\n",
    "data.drop(['estado_civil'], axis=1, inplace=True)\n",
    "data.drop(['ocupacao'], axis=1, inplace=True)\n",
    "data.drop(['sexo'], axis=1, inplace=True)\n",
    "data.drop(['sequencial_candidato'], axis=1, inplace=True)\n",
    "data.drop(['ano'], axis=1, inplace=True)"
   ]
  },
  {
   "cell_type": "markdown",
   "metadata": {},
   "source": [
    "Aplicamos a função `log(votos + 1)` em todos os atributos numéricos que estejam enviesados. Primeiro, calculamos o quão enviesados eles estão, aplicando `log(atributo + 1)` a todos cuja taxa exceda `0.75`:"
   ]
  },
  {
   "cell_type": "code",
   "execution_count": 296,
   "metadata": {},
   "outputs": [],
   "source": [
    "from scipy.stats import skew\n",
    "\n",
    "\n",
    "# recuperar todos os atributos numéricos para\n",
    "atr_numericos = data.dtypes[data.dtypes != 'object'].index\n",
    "\n",
    "# aplicar a função skew para avaliar o enviesamento das variáveis\n",
    "atr_enviesados = data[atr_numericos].apply(lambda x: skew(x.dropna()))\n",
    "# considere apenas os atributos cujo skew é superior a 0.75\n",
    "atr_enviesados = atr_enviesados[atr_enviesados > 0.75]\n",
    "atr_enviesados = atr_enviesados.index\n",
    "\n",
    "# aplique log(atributo + 1) nos atributos enviesados\n",
    "data[atr_enviesados] = np.log1p(data[atr_enviesados])"
   ]
  },
  {
   "cell_type": "markdown",
   "metadata": {},
   "source": [
    "Como há muitas variáveis numéricas sem valor (`NA`) definido, substituam-se os valores indefinidos pelas médias das respectivas colunas:"
   ]
  },
  {
   "cell_type": "code",
   "execution_count": 297,
   "metadata": {},
   "outputs": [],
   "source": [
    "data = data.fillna(data.mean())"
   ]
  },
  {
   "cell_type": "markdown",
   "metadata": {},
   "source": [
    "### Modelos\n",
    "\n",
    "Esta seção se dedica à construção e posterior comparação de modelos de predição. A comparação dos modelos será dada em termos do RMSE nos dados de teste (correspondentes à eleição de 2014): menor é melhor.\n",
    "\n",
    "Primeiro, vamos analisar cada modelo com base nos dados de 2006 (treino) e 2010 (teste). A seguir, os melhores serão retreinados com dados de 2006 e 2010, para que se possa testá-los, por fim, com os dados de 2014.\n",
    "\n",
    "Deste modo, vamos separar os dados por ano:"
   ]
  },
  {
   "cell_type": "code",
   "execution_count": 298,
   "metadata": {},
   "outputs": [],
   "source": [
    "# calcular índices pros dados, para poder separá-los por ano.\n",
    "idx_06 = data06.shape[0]\n",
    "idx_10 = data10.shape[0]\n",
    "idx_14 = data14.shape[0]\n",
    "\n",
    "# criar as matrizes pro sklearn.\n",
    "train = data[:idx_06]\n",
    "test = data[idx_06:idx_06+idx_10]\n",
    "\n",
    "y_train = data06.votos\n",
    "y_test = data10.votos"
   ]
  },
  {
   "cell_type": "markdown",
   "metadata": {},
   "source": [
    "Definam-se as seguintes funções para cálculo de RMSE, RMSE de validação cruzada e para exibir os gráficos de resíduo de cada modelo."
   ]
  },
  {
   "cell_type": "code",
   "execution_count": 299,
   "metadata": {},
   "outputs": [],
   "source": [
    "from sklearn.metrics import mean_squared_error\n",
    "from sklearn.model_selection import cross_val_score\n",
    "\n",
    "\n",
    "def rmse_cv(model, X, y):\n",
    "    \"\"\"Calcula o RMSE de validação cruzada de dado modelo.\"\"\"\n",
    "    rmse= np.sqrt(-cross_val_score(model, X, y, scoring=\"neg_mean_squared_error\", cv = 5))\n",
    "    return(rmse)\n",
    "\n",
    "\n",
    "def calculate_rmse(model, X, y):\n",
    "    \"\"\"Calcula o RMSE de dado modelo.\"\"\"\n",
    "    predictions = model.predict(X)\n",
    "    mse = mean_squared_error(y, predictions)\n",
    "    return np.sqrt(mse)\n",
    "\n",
    "\n",
    "def plot_residuals(model, X, y):\n",
    "    \"\"\"Exibe o gráfico de resíduos de dado modelo.\"\"\"\n",
    "    df = pd.DataFrame({\n",
    "        \"predictions\": model.predict(X),\n",
    "        \"real\": y\n",
    "    })\n",
    "    df[\"residuals\"] = df[\"real\"] - df[\"predictions\"]\n",
    "    df.plot(x=\"predictions\", y=\"residuals\", kind=\"scatter\")"
   ]
  },
  {
   "cell_type": "markdown",
   "metadata": {},
   "source": [
    "#### Regressão Linear\n",
    "\n",
    "Primeiro, considere-se um modelo de regressão clássico. Serão analisadas variações com (Ridge e Lasso) e sem regularização."
   ]
  },
  {
   "cell_type": "markdown",
   "metadata": {},
   "source": [
    "**Sem regularização**"
   ]
  },
  {
   "cell_type": "code",
   "execution_count": 300,
   "metadata": {},
   "outputs": [
    {
     "name": "stdout",
     "output_type": "stream",
     "text": [
      "33698.66851611233\n"
     ]
    }
   ],
   "source": [
    "from sklearn.linear_model import LinearRegression\n",
    "\n",
    "\n",
    "# instanciar e treinar o modelo.\n",
    "model_linear = LinearRegression(fit_intercept=True)\n",
    "model_linear.fit(train, y_train)\n",
    "\n",
    "# calcular RMSE do treino.\n",
    "rmse_training = calculate_rmse(model_linear, train, y_train)\n",
    "print rmse_training"
   ]
  },
  {
   "cell_type": "code",
   "execution_count": 301,
   "metadata": {},
   "outputs": [
    {
     "name": "stdout",
     "output_type": "stream",
     "text": [
      "37812.29620675348\n"
     ]
    }
   ],
   "source": [
    "# calcular RMSE do teste.\n",
    "rmse_test = calculate_rmse(model_linear, test, y_test)\n",
    "\n",
    "print rmse_test"
   ]
  },
  {
   "cell_type": "markdown",
   "metadata": {},
   "source": [
    "Como se pode observar, o modelo de Regressão Linear sem regularização obteve RMSE de ``33698.67``. Quando aplicamos o modelo nos dados de teste (2010), observamos um RMSE de ``37812.30``.\n",
    "\n",
    "Os resíduos se comportam da seguinte forma:"
   ]
  },
  {
   "cell_type": "code",
   "execution_count": 302,
   "metadata": {},
   "outputs": [
    {
     "data": {
      "image/png": "[encoded data removed]",
      "text/plain": [
       "<Figure size 864x432 with 1 Axes>"
      ]
     },
     "metadata": {
      "needs_background": "light"
     },
     "output_type": "display_data"
    }
   ],
   "source": [
    "plot_residuals(model_linear, test, y_test)"
   ]
  },
  {
   "cell_type": "markdown",
   "metadata": {},
   "source": [
    "**Com regularização: Ridge**"
   ]
  },
  {
   "cell_type": "markdown",
   "metadata": {},
   "source": [
    "Primeiro precisa-se descobrir o alpha que melhor se aplica aos dados de treino:"
   ]
  },
  {
   "cell_type": "code",
   "execution_count": 303,
   "metadata": {},
   "outputs": [
    {
     "name": "stdout",
     "output_type": "stream",
     "text": [
      "33413.699474079585 1\n"
     ]
    }
   ],
   "source": [
    "from sklearn.linear_model import Ridge, RidgeCV\n",
    "\n",
    "\n",
    "# descobrir qual o melhor alpha para o modelo.\n",
    "alphas = [0.05, 0.1, 0.3, 1, 3, 5, 10, 15, 30, 50, 75]\n",
    "cv_ridge_train = [rmse_cv(Ridge(alpha=alpha), train, y_train).mean() for alpha in alphas]\n",
    "print min(cv_ridge_train), alphas[cv_ridge_train.index(min(cv_ridge_train))]"
   ]
  },
  {
   "cell_type": "markdown",
   "metadata": {},
   "source": [
    "O valor de ``alpha = 1`` é o que tem melhor desempenho nos dados de treino, com RMSE de ``33413.70`` (pouco melhor que o modelo de Regressão Linear sem regularização). Vamos, agora, aplicar esse modelo nos dados de teste (2010):"
   ]
  },
  {
   "cell_type": "code",
   "execution_count": 304,
   "metadata": {},
   "outputs": [
    {
     "name": "stdout",
     "output_type": "stream",
     "text": [
      "36005.64967008875\n"
     ]
    }
   ],
   "source": [
    "# instanciar e treinar modelo com o alpha que achamos\n",
    "model_ridge = Ridge(alpha=1)\n",
    "model_ridge.fit(train, y_train)\n",
    "\n",
    "# calcular RMSE nos dados de teste\n",
    "print rmse_cv(model_ridge, test, y_test).mean()"
   ]
  },
  {
   "cell_type": "markdown",
   "metadata": {},
   "source": [
    "Observa-se que o RMSE nos dados de teste foi de ``36005.65``, consideravelmente melhor que o modelo de Regressão Linear sem regularização.\n",
    "\n",
    "Os resíduos se comportam da seguinte forma:"
   ]
  },
  {
   "cell_type": "code",
   "execution_count": 305,
   "metadata": {},
   "outputs": [
    {
     "data": {
      "image/png": "[encoded data removed]",
      "text/plain": [
       "<Figure size 864x432 with 1 Axes>"
      ]
     },
     "metadata": {
      "needs_background": "light"
     },
     "output_type": "display_data"
    }
   ],
   "source": [
    "plot_residuals(model_ridge, test, y_test)"
   ]
  },
  {
   "cell_type": "markdown",
   "metadata": {},
   "source": [
    "**Com regularização: Lasso**"
   ]
  },
  {
   "cell_type": "markdown",
   "metadata": {},
   "source": [
    "Outro modelo de Regressão Linear com regularização é o Lasso. Aplicando-o nos dados de teste (2006):"
   ]
  },
  {
   "cell_type": "code",
   "execution_count": 306,
   "metadata": {},
   "outputs": [
    {
     "name": "stdout",
     "output_type": "stream",
     "text": [
      "33419.73501102944\n"
     ]
    }
   ],
   "source": [
    "from sklearn.linear_model import LassoCV, LassoLarsCV\n",
    "\n",
    "\n",
    "model_lasso = LassoCV(alphas = [1, 0.1, 0.001, 0.0005]).fit(train, y_train)\n",
    "print rmse_cv(model_lasso, train, y_train).mean()"
   ]
  },
  {
   "cell_type": "code",
   "execution_count": 307,
   "metadata": {},
   "outputs": [
    {
     "name": "stdout",
     "output_type": "stream",
     "text": [
      "36007.59185837375\n"
     ]
    }
   ],
   "source": [
    "print rmse_cv(model_lasso, test, y_test).mean()"
   ]
  },
  {
   "cell_type": "markdown",
   "metadata": {},
   "source": [
    "Aplicando-o nos dados de teste (2006), temos um RMSE de ``33419.73``. Aplicando-o nos dados de treino (2010), o valor do RMSE sobe para ``36007.59``, resultado bem próximo do modelo anterior (Ridge).\n",
    "\n",
    "Os resíduos se comportam da seguinte forma:"
   ]
  },
  {
   "cell_type": "code",
   "execution_count": 308,
   "metadata": {},
   "outputs": [
    {
     "data": {
      "image/png": "[encoded data removed]",
      "text/plain": [
       "<Figure size 864x432 with 1 Axes>"
      ]
     },
     "metadata": {
      "needs_background": "light"
     },
     "output_type": "display_data"
    }
   ],
   "source": [
    "plot_residuals(model_lasso, test, y_test)"
   ]
  },
  {
   "cell_type": "markdown",
   "metadata": {},
   "source": [
    "#### K-NN\n",
    "\n",
    "Considere-se agora um modelo de regressão não-paramétrica, o K-NN (_K-nearest neighbours_).\n",
    "\n",
    "Primeiro é preciso descobrir o valor ideal de _neighbors_ para obter o menor erro. Por razões de limitação computacional, vamos comparar apenas valores de 1 a 100:"
   ]
  },
  {
   "cell_type": "code",
   "execution_count": 309,
   "metadata": {},
   "outputs": [],
   "source": [
    "from sklearn.neighbors import KNeighborsRegressor\n",
    "\n",
    "\n",
    "def run_knn(X, y):\n",
    "    rmses = []\n",
    "    \n",
    "    for K in range(100):\n",
    "        K = K+1\n",
    "        model_knn = KNeighborsRegressor(n_neighbors=K)\n",
    "        model_knn.fit(X, y)\n",
    "        \n",
    "        e = rmse_cv(model_knn, X, y)\n",
    "        rmses.append(e.mean())\n",
    "        \n",
    "    print min(rmses), rmses.index(min(rmses))\n",
    "    return rmses"
   ]
  },
  {
   "cell_type": "code",
   "execution_count": 310,
   "metadata": {},
   "outputs": [
    {
     "name": "stdout",
     "output_type": "stream",
     "text": [
      "30720.755004159397 26\n"
     ]
    }
   ],
   "source": [
    "knn_train = run_knn(train, y_train)"
   ]
  },
  {
   "cell_type": "markdown",
   "metadata": {},
   "source": [
    "Os números acima evidenciam que o modelo K-NN mais preciso tem 26 _neighbors_, com RMSE de ``30720.75``, o menor visto até agora.\n",
    "\n",
    "Para aplicá-lo nos dados de teste, vamos instanciar o modelo e retreiná-lo, para depois aplicá-lo nos dados de teste:"
   ]
  },
  {
   "cell_type": "code",
   "execution_count": 311,
   "metadata": {},
   "outputs": [
    {
     "name": "stdout",
     "output_type": "stream",
     "text": [
      "33589.18247056067\n"
     ]
    }
   ],
   "source": [
    "model_knn = KNeighborsRegressor(n_neighbors=26)\n",
    "model_knn.fit(train, y_train)\n",
    "\n",
    "print rmse_cv(model_knn, test, y_test).mean()"
   ]
  },
  {
   "cell_type": "markdown",
   "metadata": {},
   "source": [
    "O modelo K-NN aplicado nos dados de teste teve RMSE de ``33589.18``, também o menor visto até agora.\n",
    "\n",
    "Os resíduos se comportam da seguinte forma:"
   ]
  },
  {
   "cell_type": "code",
   "execution_count": 312,
   "metadata": {},
   "outputs": [
    {
     "data": {
      "image/png": "[encoded data removed]",
      "text/plain": [
       "<Figure size 864x432 with 1 Axes>"
      ]
     },
     "metadata": {
      "needs_background": "light"
     },
     "output_type": "display_data"
    }
   ],
   "source": [
    "plot_residuals(model_knn, test, y_test)"
   ]
  },
  {
   "cell_type": "markdown",
   "metadata": {},
   "source": [
    "#### Random Forests\n",
    "\n",
    "Para complementar a nossa análise, também consderaremos um modelo mais elaborado, como o Random Forest.\n",
    "\n",
    "Iniciamos por descobrir o número ideal de estimadores para nosso conjunto de teste. Novamente, por limitação computacional, só compararemos as análises com estimadores variando de 1 a 50."
   ]
  },
  {
   "cell_type": "code",
   "execution_count": 326,
   "metadata": {},
   "outputs": [],
   "source": [
    "from sklearn.ensemble import RandomForestRegressor\n",
    "\n",
    "\n",
    "def run_rf(X, y):\n",
    "    rmses = []\n",
    "    \n",
    "    for n in range(1, 50):\n",
    "        try:\n",
    "            del model_rf\n",
    "        except UnboundLocalError:\n",
    "            pass\n",
    "        \n",
    "        model_rf = RandomForestRegressor(n_estimators=n)\n",
    "        model_rf.fit(X, y)\n",
    "        \n",
    "        e = rmse_cv(model_rf, X, y)\n",
    "        rmses.append(e.mean())\n",
    "        \n",
    "    print min(rmses), rmses.index(min(rmses)) + 1\n",
    "    return rmses"
   ]
  },
  {
   "cell_type": "code",
   "execution_count": 327,
   "metadata": {},
   "outputs": [
    {
     "name": "stdout",
     "output_type": "stream",
     "text": [
      "32293.44505581355 23\n"
     ]
    }
   ],
   "source": [
    "rf_train = run_rf(train, y_train)"
   ]
  },
  {
   "cell_type": "markdown",
   "metadata": {},
   "source": [
    "Os números acima evidenciam que o modelo Random Forest mais preciso tem 23 estimadores, com RMSE de ``32293.44``.\n",
    "\n",
    "Para aplicá-lo nos dados de teste, vamos instanciar o modelo e retreiná-lo, para depois aplicá-lo nos dados de teste:"
   ]
  },
  {
   "cell_type": "code",
   "execution_count": 328,
   "metadata": {
    "scrolled": true
   },
   "outputs": [
    {
     "name": "stdout",
     "output_type": "stream",
     "text": [
      "37972.02525715475\n"
     ]
    }
   ],
   "source": [
    "model_rf = RandomForestRegressor(n_estimators=23)\n",
    "model_rf.fit(train, y_train)\n",
    "\n",
    "print rmse_cv(model_rf, test, y_test).mean()"
   ]
  },
  {
   "cell_type": "markdown",
   "metadata": {},
   "source": [
    "_Oh well_. O modelo, quando aplicado aos dados de teste (2010), teve RMSE de ``373972.02``.\n",
    "\n",
    "Os resíduos se comportam da seguinte forma:"
   ]
  },
  {
   "cell_type": "code",
   "execution_count": 329,
   "metadata": {},
   "outputs": [
    {
     "data": {
      "image/png": "[encoded data removed]",
      "text/plain": [
       "<Figure size 864x432 with 1 Axes>"
      ]
     },
     "metadata": {
      "needs_background": "light"
     },
     "output_type": "display_data"
    }
   ],
   "source": [
    "plot_residuals(model_rf, test, y_test)"
   ]
  },
  {
   "cell_type": "markdown",
   "metadata": {},
   "source": [
    "### Validação final: dados de 2014\n",
    "\n",
    "Os melhores resultados foram obtidos pelo modelo K-NN. Nesta seção avaliaremos o desempenho deste modelo com os dados de teste finais, relativos à votação de 2014. Também analisaremos os demais modelos brevemente.\n",
    "\n",
    "Primeiro, vamos redefinir as matrizes que alimentarão os modelos: agora, nosso conjunto de treino é composto pelos dados de 2006 e 2010, enquanto o conjunto de teste é composto pelos dados de 2014:"
   ]
  },
  {
   "cell_type": "code",
   "execution_count": 331,
   "metadata": {},
   "outputs": [],
   "source": [
    "train = data[:idx_06+idx_10]\n",
    "test = data[idx_06+idx_10:]\n",
    "\n",
    "y_train = pd.concat((data06.votos, data10.votos), sort=False)\n",
    "y_test = data14.votos"
   ]
  },
  {
   "cell_type": "markdown",
   "metadata": {},
   "source": [
    "Utilizando o modelo K-NN já instanciado e treinado, vamos retreiná-lo com os novos dados de treino (e calcular seu novo RMSE):"
   ]
  },
  {
   "cell_type": "code",
   "execution_count": 332,
   "metadata": {},
   "outputs": [
    {
     "name": "stdout",
     "output_type": "stream",
     "text": [
      "33071.125929482005\n"
     ]
    }
   ],
   "source": [
    "model_knn.fit(train, y_train)\n",
    "print rmse_cv(model_knn, train, y_train).mean()"
   ]
  },
  {
   "cell_type": "markdown",
   "metadata": {},
   "source": [
    "O novo RMSE para o conjunto de treino foi de ``33071.12``. Aplicando o modelo no conjunto de testes:"
   ]
  },
  {
   "cell_type": "code",
   "execution_count": 333,
   "metadata": {},
   "outputs": [
    {
     "name": "stdout",
     "output_type": "stream",
     "text": [
      "31386.806690391\n"
     ]
    }
   ],
   "source": [
    "print rmse_cv(model_knn, test, y_test).mean()"
   ]
  },
  {
   "cell_type": "markdown",
   "metadata": {},
   "source": [
    "Obtém-se um RMSE de ``31386.81``. Isso significa dizer que o erro médio na predição do modelo é de aproximadamente 31,5 mil votos.\n",
    "\n",
    "Os resíduos se comportam da seguinte forma:"
   ]
  },
  {
   "cell_type": "code",
   "execution_count": 334,
   "metadata": {},
   "outputs": [
    {
     "data": {
      "image/png": "[encoded data removed]",
      "text/plain": [
       "<Figure size 864x432 with 1 Axes>"
      ]
     },
     "metadata": {
      "needs_background": "light"
     },
     "output_type": "display_data"
    }
   ],
   "source": [
    "plot_residuals(model_knn, test, y_test)"
   ]
  },
  {
   "cell_type": "markdown",
   "metadata": {},
   "source": [
    "#### Demais modelos\n",
    "\n",
    "Vamos também analisar os RMSEs dos modelos de Regressão Linear/Ridge e Random Forest, para efeito de comparação, com os novos conjuntos de treino e teste."
   ]
  },
  {
   "cell_type": "code",
   "execution_count": 336,
   "metadata": {},
   "outputs": [
    {
     "name": "stdout",
     "output_type": "stream",
     "text": [
      "33432.16172416216\n"
     ]
    }
   ],
   "source": [
    "# Ridge\n",
    "model_ridge.fit(train, y_train)\n",
    "print rmse_cv(model_ridge, test, y_test).mean()"
   ]
  },
  {
   "cell_type": "code",
   "execution_count": 338,
   "metadata": {},
   "outputs": [
    {
     "name": "stdout",
     "output_type": "stream",
     "text": [
      "34334.40812839303\n"
     ]
    }
   ],
   "source": [
    "# Random Forest\n",
    "model_rf.fit(train, y_train)\n",
    "print rmse_cv(model_rf, test, y_test).mean()"
   ]
  },
  {
   "cell_type": "markdown",
   "metadata": {},
   "source": [
    "Mantendo a tendência da primeira comparação, os modelos tiveram desempenho inferior novamente. O modelo Ridge teve um RMSE de ``33432.16``, enquanto o Random Forest teve RMSE de ``34334.41``, com 23 estimadores."
   ]
  },
  {
   "cell_type": "markdown",
   "metadata": {},
   "source": [
    "### Conclusão\n",
    "\n",
    "O modelo que melhor se saiu foi o K-NN, com RMSE de ``31386.81`` para 26 _neighbors_.\n",
    "\n",
    "É importante observar, no entanto, que um erro médio de aproximadamente 31,5 mil votos é bastante significativo, já que essa quantidade de votos geralmente é decisiva numa disputa para Deputado Federal."
   ]
  }
 ],
 "metadata": {
  "kernelspec": {
   "display_name": "Python 2",
   "language": "python",
   "name": "python2"
  },
  "language_info": {
   "codemirror_mode": {
    "name": "ipython",
    "version": 2
   },
   "file_extension": ".py",
   "mimetype": "text/x-python",
   "name": "python",
   "nbconvert_exporter": "python",
   "pygments_lexer": "ipython2",
   "version": "2.7.13"
  }
 },
 "nbformat": 4,
 "nbformat_minor": 2
}
