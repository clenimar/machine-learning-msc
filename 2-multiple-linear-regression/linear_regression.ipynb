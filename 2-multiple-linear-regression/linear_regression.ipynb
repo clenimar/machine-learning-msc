{
 "cells": [
  {
   "cell_type": "markdown",
   "metadata": {},
   "source": [
    "# Regressão Linear Múltipla com NumPy"
   ]
  },
  {
   "cell_type": "code",
   "execution_count": 8,
   "metadata": {},
   "outputs": [],
   "source": [
    "import numpy as np\n",
    "import math\n",
    "import time"
   ]
  },
  {
   "cell_type": "markdown",
   "metadata": {},
   "source": [
    "### Versão Não Vetorizada\n",
    "Função para calcular o MSE (Mean Squared Error):\n",
    "\n",
    "$MSE(\\hat{w}) = \\frac{1}{N} \\sum_{i=1}^N (y_i - \\hat{y}_i (x_i))^2$"
   ]
  },
  {
   "cell_type": "code",
   "execution_count": 2,
   "metadata": {},
   "outputs": [],
   "source": [
    "# y = mx + b\n",
    "# m is slope, b is y-intercept\n",
    "def calculate_hypothesis(b, m, X):\n",
    "    h = b\n",
    "    for i in range(m.size):\n",
    "        h += X[i] * m[i]\n",
    "    return h\n",
    "\n",
    "\n",
    "def compute_mse(b, m, points):\n",
    "    totalError = 0\n",
    "    for i in range(0, len(points)):\n",
    "        X = points[i, :-1]\n",
    "        y = points[i, -1]\n",
    "        totalError += (y - calculate_hypothesis(b, m, X)) ** 2\n",
    "    return totalError / float(len(points))"
   ]
  },
  {
   "cell_type": "markdown",
   "metadata": {},
   "source": [
    "Função para fazer uma atualização dos parâmetros no Gradiente Descendente:\n",
    "\n",
    "$w_0 = w_0 + 2\\alpha\\sum_{i=1}^N (y_i - (w_0+w_1x_{i_1}+w_2x_{i_2}+\\ldots+w_nx_{i_n}))$\n",
    "\n",
    "$w_1 = w_1 + 2\\alpha\\sum_{i=1}^N x_{i_1}(y_i - (w_0+w_1x_{i_1}+w_2x_{i_2}+\\ldots+w_nx_{i_n}))$\n",
    "\n",
    "...\n",
    "\n",
    "$w_n = w_n + 2\\alpha\\sum_{i=1}^N x_{i_n}(y_i - (w_0+w_1x_{i_1}+w_2x_{i_2}+\\ldots+w_nx_{i_n}))$\n"
   ]
  },
  {
   "cell_type": "code",
   "execution_count": 3,
   "metadata": {},
   "outputs": [],
   "source": [
    "def step_gradient(b_current, m_current, points, learningRate):\n",
    "    b_gradient = 0\n",
    "    m_gradient = np.zeros(m_current.size)\n",
    "    for i in range(0, len(points)):\n",
    "        X = points[i, :-1]\n",
    "        y = points[i, -1]\n",
    "        \n",
    "        h = calculate_hypothesis(b_current, m_current, X)\n",
    "        b_gradient += y - h\n",
    "        \n",
    "        for j in range(m_gradient.size):\n",
    "            m_gradient[j] += X[j] * (y - h)\n",
    "            \n",
    "    new_b = b_current + (2 * learningRate * b_gradient)\n",
    "    new_m = np.add(m_current, 2 * learningRate * m_gradient)\n",
    "    \n",
    "    return [new_b, new_m, b_gradient, m_gradient]"
   ]
  },
  {
   "cell_type": "markdown",
   "metadata": {},
   "source": [
    "$||\\mathbf{w}||_2 = \\sqrt{\\sum_{j=1}^D w_j^2}$"
   ]
  },
  {
   "cell_type": "code",
   "execution_count": 4,
   "metadata": {},
   "outputs": [],
   "source": [
    "def norm_2(x):\n",
    "    c=0\n",
    "    for i in range(len(x)):\n",
    "        c += x[i]**2\n",
    "    return math.sqrt(c)"
   ]
  },
  {
   "cell_type": "markdown",
   "metadata": {},
   "source": [
    "Função para iterar sobre o gradiente descendente até convergência."
   ]
  },
  {
   "cell_type": "code",
   "execution_count": 5,
   "metadata": {},
   "outputs": [],
   "source": [
    "def gradient_descent_runner(points, starting_b, starting_m, learning_rate, epsilon):\n",
    "    b = starting_b\n",
    "    m = starting_m\n",
    "    grad = np.array([np.inf] * (starting_m.size + 1))\n",
    "    i = 0\n",
    "    while (norm_2(grad)>=epsilon):\n",
    "        b, m, b_gradient, m_gradient = step_gradient(b, m, points, learning_rate)\n",
    "        grad = [b_gradient]\n",
    "        grad.extend(m_gradient)\n",
    "        grad = np.array(grad)\n",
    "        if i % 1000 == 0:\n",
    "            #print(norm_2(grad))\n",
    "            print(\"MSE na iteração {0} é de {1}\".format(i,compute_mse(b,m,points)))\n",
    "        i+= 1\n",
    "    return [b, m]"
   ]
  },
  {
   "cell_type": "code",
   "execution_count": 10,
   "metadata": {},
   "outputs": [
    {
     "name": "stdout",
     "output_type": "stream",
     "text": [
      "Starting gradient descent at b = 0, m = [0. 0. 0. 0. 0.], error = 54.4799538556\n",
      "Running...\n",
      "MSE na iteração 0 é de 15.3941521144\n",
      "MSE na iteração 1000 é de 0.430362693446\n",
      "MSE na iteração 2000 é de 0.428912823578\n",
      "MSE na iteração 3000 é de 0.427666789365\n",
      "MSE na iteração 4000 é de 0.426509325361\n",
      "MSE na iteração 5000 é de 0.425433906534\n",
      "MSE na iteração 6000 é de 0.424434716667\n",
      "MSE na iteração 7000 é de 0.423506352419\n",
      "MSE na iteração 8000 é de 0.422643793454\n",
      "MSE na iteração 9000 é de 0.421842375293\n",
      "MSE na iteração 10000 é de 0.42109776409\n",
      "MSE na iteração 11000 é de 0.420405933195\n",
      "MSE na iteração 12000 é de 0.419763141379\n",
      "MSE na iteração 13000 é de 0.419165912603\n",
      "MSE na iteração 14000 é de 0.41861101722\n",
      "MSE na iteração 15000 é de 0.418095454511\n",
      "MSE na iteração 16000 é de 0.417616436455\n",
      "MSE na iteração 17000 é de 0.417171372657\n",
      "MSE na iteração 18000 é de 0.416757856335\n",
      "MSE na iteração 19000 é de 0.416373651308\n",
      "MSE na iteração 20000 é de 0.416016679903\n",
      "Gradiente descendente convergiu com w0 = 0.923725726852, w1 = [0.11762689 0.08368747 0.16224371 0.42251182 0.03029501], erro = 0.415974216542\n",
      "Versão não-vetorizada rodou em: 9949.23996925ms\n"
     ]
    }
   ],
   "source": [
    "points = np.genfromtxt(\"sample_treino.csv\", delimiter=\",\")\n",
    "learning_rate = 0.00003\n",
    "initial_b = 0 # initial y-intercept guess\n",
    "initial_m = np.zeros(points[0].size - 1) # initial slope guess\n",
    "#num_iterations = 10000\n",
    "epsilon = 0.5\n",
    "print(\"Starting gradient descent at b = {0}, m = {1}, error = {2}\".format(initial_b, initial_m, compute_mse(initial_b, initial_m, points)))\n",
    "print(\"Running...\")\n",
    "tic = time.time()\n",
    "[b, m] = gradient_descent_runner(points, initial_b, initial_m, learning_rate, epsilon)\n",
    "toc = time.time()\n",
    "print(\"Gradiente descendente convergiu com w0 = {0}, w1 = {1}, erro = {2}\".format(b, m, compute_mse(b, m, points)))\n",
    "print(\"Versão não-vetorizada rodou em: \" + str(1000*(toc-tic)) + \"ms\")"
   ]
  },
  {
   "cell_type": "markdown",
   "metadata": {},
   "source": [
    "### Versão Vetorizada"
   ]
  },
  {
   "cell_type": "markdown",
   "metadata": {},
   "source": [
    "$MSE(\\hat{w})=\\frac{1}{N}(y-\\hat{\\mathbf{w}}^T\\mathbf{x})^T(y-\\hat{\\mathbf{w}}^T\\mathbf{x})$"
   ]
  },
  {
   "cell_type": "code",
   "execution_count": 4,
   "metadata": {},
   "outputs": [],
   "source": [
    "def compute_mse_vectorized(w,X,Y):\n",
    "    res = Y - np.dot(X,w)\n",
    "    totalError = np.dot(res.T,res)\n",
    "    return totalError / float(len(Y))"
   ]
  },
  {
   "cell_type": "code",
   "execution_count": 5,
   "metadata": {},
   "outputs": [],
   "source": [
    "def step_gradient_vectorized(w_current,X,Y,learningRate):\n",
    "    res = Y - np.dot(X,w_current)\n",
    "    gradient = np.matmul(X.T, res)\n",
    "    new_w = np.add(w_current, 2 * learningRate * gradient)\n",
    "    return [new_w, gradient]"
   ]
  },
  {
   "cell_type": "code",
   "execution_count": 6,
   "metadata": {},
   "outputs": [],
   "source": [
    "def gradient_descent_runner_vectorized(starting_w, X,Y, learning_rate, epsilon):\n",
    "    w = starting_w\n",
    "    grad = np.array([np.inf] * starting_w.size)\n",
    "    i = 0\n",
    "    while (np.linalg.norm(grad)>=epsilon):\n",
    "        [w, grad] = step_gradient_vectorized(w, X, Y, learning_rate)\n",
    "        #print(np.linalg.norm(grad))\n",
    "        if i % 1000 == 0:\n",
    "            print(\"MSE na iteração {0} é de {1}\".format(i,compute_mse_vectorized(w, X, Y)))\n",
    "        i+= 1\n",
    "    return w"
   ]
  },
  {
   "cell_type": "code",
   "execution_count": 9,
   "metadata": {},
   "outputs": [
    {
     "name": "stdout",
     "output_type": "stream",
     "text": [
      "Starting gradient descent at w0 = 0.0, w1 = [0. 0. 0. 0. 0.], error = 54.4799538556\n",
      "Running...\n",
      "MSE na iteração 0 é de 15.3941521144\n",
      "MSE na iteração 1000 é de 0.430362693446\n",
      "MSE na iteração 2000 é de 0.428912823578\n",
      "MSE na iteração 3000 é de 0.427666789365\n",
      "MSE na iteração 4000 é de 0.426509325361\n",
      "MSE na iteração 5000 é de 0.425433906534\n",
      "MSE na iteração 6000 é de 0.424434716667\n",
      "MSE na iteração 7000 é de 0.423506352419\n",
      "MSE na iteração 8000 é de 0.422643793454\n",
      "MSE na iteração 9000 é de 0.421842375293\n",
      "MSE na iteração 10000 é de 0.42109776409\n",
      "MSE na iteração 11000 é de 0.420405933195\n",
      "MSE na iteração 12000 é de 0.419763141379\n",
      "MSE na iteração 13000 é de 0.419165912603\n",
      "MSE na iteração 14000 é de 0.41861101722\n",
      "MSE na iteração 15000 é de 0.418095454511\n",
      "MSE na iteração 16000 é de 0.417616436455\n",
      "MSE na iteração 17000 é de 0.417171372657\n",
      "MSE na iteração 18000 é de 0.416757856335\n",
      "MSE na iteração 19000 é de 0.416373651308\n",
      "MSE na iteração 20000 é de 0.416016679903\n",
      "Gradiente descendente convergiu com w0 = 0.923725726852, w1 = [0.11762689 0.08368747 0.16224371 0.42251182 0.03029501], error = 0.415974216542\n",
      "Versão vetorizada rodou em: 287.715911865 ms\n"
     ]
    }
   ],
   "source": [
    "points = np.genfromtxt(\"sample_treino.csv\", delimiter=\",\")\n",
    "points = np.c_[np.ones(len(points)),points]\n",
    "X = points[:, :-1]\n",
    "Y = points[:, -1]\n",
    "init_w = np.zeros(X[0].size)\n",
    "learning_rate = 0.00003\n",
    "#num_iterations = 10000\n",
    "epsilon = 0.5\n",
    "print(\"Starting gradient descent at w0 = {0}, w1 = {1}, error = {2}\".format(init_w[0], init_w[1:], compute_mse_vectorized(init_w, X,Y)))\n",
    "print(\"Running...\")\n",
    "tic = time.time()\n",
    "w = gradient_descent_runner_vectorized(init_w, X,Y, learning_rate, epsilon)\n",
    "toc = time.time()\n",
    "print(\"Gradiente descendente convergiu com w0 = {0}, w1 = {1}, error = {2}\".format(w[0], w[1:], compute_mse_vectorized(w,X,Y)))\n",
    "print(\"Versão vetorizada rodou em: \" + str(1000*(toc-tic)) + \" ms\")\n"
   ]
  },
  {
   "cell_type": "markdown",
   "metadata": {},
   "source": [
    "### Comparando com o SciKit Learn"
   ]
  },
  {
   "cell_type": "code",
   "execution_count": 40,
   "metadata": {},
   "outputs": [
    {
     "name": "stdout",
     "output_type": "stream",
     "text": [
      "coeficientes do SciKit: [0.10304143 0.0464367  0.16409834 0.38117843 0.02027816]\n",
      "coeficientes deste lab: [0.11762689 0.08368747 0.16224371 0.42251182 0.03029501]\n"
     ]
    }
   ],
   "source": [
    "import sklearn.linear_model\n",
    "\n",
    "\n",
    "# carregar modelo e treiná-lo\n",
    "r = sklearn.linear_model.LinearRegression()\n",
    "r.fit(X, Y)\n",
    "\n",
    "print \"coeficientes do SciKit: %s\" % r.coef_[1:]\n",
    "print \"coeficientes deste lab: %s\" % w[1:]\n",
    "\n"
   ]
  },
  {
   "cell_type": "markdown",
   "metadata": {},
   "source": [
    "Mesmo com uma certa divergência (mínima, em certos coeficientes), os resultados obtidos pelo modelo deste lab são parecidos com os coeficientes mostrados com a biblioteca SciLearn Kit."
   ]
  }
 ],
 "metadata": {
  "kernelspec": {
   "display_name": "Python 2",
   "language": "python",
   "name": "python2"
  },
  "language_info": {
   "codemirror_mode": {
    "name": "ipython",
    "version": 2
   },
   "file_extension": ".py",
   "mimetype": "text/x-python",
   "name": "python",
   "nbconvert_exporter": "python",
   "pygments_lexer": "ipython2",
   "version": "2.7.13"
  }
 },
 "nbformat": 4,
 "nbformat_minor": 2
}
